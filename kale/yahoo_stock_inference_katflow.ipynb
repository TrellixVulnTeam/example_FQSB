{
 "cells": [
  {
   "cell_type": "code",
   "execution_count": 1,
   "metadata": {
    "tags": [
     "imports"
    ]
   },
   "outputs": [
    {
     "data": {
      "text/plain": [
       "0"
      ]
     },
     "execution_count": 1,
     "metadata": {},
     "output_type": "execute_result"
    }
   ],
   "source": [
    "import os\n",
    "#os.system(\"pip install pystan==2.19.1.1 fbprophet\")\n",
    "##os.system(\"pip3 install fbprophet --no-cache-dir --no-binary :all:\")\n",
    "os.system(\"pip uninstall slack -y\")\n",
    "os.system(\"pip uninstall slackclient -y\")\n",
    "os.system(\"pip install slack\")\n",
    "os.system(\"pip install slackclient\")\n",
    "os.system(\"pip install yfinance\")\n",
    "os.system(\"pip install yahoofinancials\")\n",
    "##os.system(\"pip install keras\")\n",
    "##os.system(\"pip install tensorflow\")\n",
    "#os.system(\"pip install statsmodels\")\n",
    "#os.system(\"pip install sklearn\")"
   ]
  },
  {
   "cell_type": "code",
   "execution_count": 2,
   "metadata": {
    "tags": []
   },
   "outputs": [
    {
     "data": {
      "text/plain": [
       "0"
      ]
     },
     "execution_count": 2,
     "metadata": {},
     "output_type": "execute_result"
    }
   ],
   "source": [
    "#!apt-get install build-dep python-psycopg2\n",
    "#!pip install psycopg2-binary\n",
    "os.system(\"pip install boto3\")"
   ]
  },
  {
   "cell_type": "code",
   "execution_count": null,
   "metadata": {
    "tags": []
   },
   "outputs": [],
   "source": [
    "import os\n",
    "import numpy as np\n",
    "import pandas as pd\n",
    "import matplotlib.pyplot as plt  \n",
    "import math\n",
    "plt.style.use('fivethirtyeight')\n",
    "import yfinance as yf\n",
    "from yahoofinancials import YahooFinancials\n",
    "import statistics\n",
    "from statistics import stdev\n",
    "\n",
    "from statsmodels.tsa.stattools import adfuller\n",
    "from statsmodels.graphics.tsaplots import plot_acf\n",
    "from statsmodels.graphics.tsaplots import plot_pacf\n",
    "from numpy import log\n",
    "from statsmodels.tsa.seasonal import seasonal_decompose\n",
    "from fbprophet import Prophet\n",
    "from datetime import date, datetime\n",
    "from sklearn.metrics import mean_squared_error, r2_score, mean_absolute_error\n",
    "\n",
    "from subprocess import run, Popen, PIPE\n",
    "\n",
    "from katflow.util import set_exp,get_exp,get_exp_id, search_runs\n",
    "from katflow.prophet import run_model, register_model, load_model\n",
    "from katflow.database import write_to_table, read_from_table, truncate_table\n",
    "\n",
    "from slack import WebClient\n",
    "from slack.errors import SlackApiError"
   ]
  },
  {
   "cell_type": "code",
   "execution_count": null,
   "metadata": {
    "tags": [
     "pipeline-parameters"
    ]
   },
   "outputs": [],
   "source": [
    "token = \"your slack token\"\n",
    "channel = '#test'\n",
    "periods_prediction = 1 #days\n",
    "ticker = 'AAPL'"
   ]
  },
  {
   "cell_type": "code",
   "execution_count": null,
   "metadata": {
    "tags": []
   },
   "outputs": [],
   "source": [
    "PROJECT_SCHEMA = 'demo_yahoo_stock'\n",
    "TABLE_MODEL = 'demo_yahoo_model_meta'"
   ]
  },
  {
   "cell_type": "code",
   "execution_count": null,
   "metadata": {
    "tags": [
     "block:load_model"
    ]
   },
   "outputs": [],
   "source": [
    "model_df = read_from_table(PROJECT_SCHEMA,TABLE_MODEL)\n",
    "model_df.head()"
   ]
  },
  {
   "cell_type": "code",
   "execution_count": null,
   "metadata": {
    "tags": []
   },
   "outputs": [],
   "source": [
    "MODEL_NAME = \"yahoo_stock_pred_\"+ticker+\"_prophet\"\n",
    "if model_df[model_df['model']==MODEL_NAME].empty:\n",
    "    raise ValueError(\"Model is not trained for \" + ticker+ \"ticker. Please run modelling pipeline.\")\n",
    "else:\n",
    "    model_df = model_df[model_df['model']==MODEL_NAME].sort_values('prod_time',ascending=False).head(1)"
   ]
  },
  {
   "cell_type": "code",
   "execution_count": null,
   "metadata": {
    "tags": []
   },
   "outputs": [],
   "source": [
    "model_df"
   ]
  },
  {
   "cell_type": "code",
   "execution_count": null,
   "metadata": {
    "tags": []
   },
   "outputs": [],
   "source": [
    "exp_id = model_df['experiment_id'].values[0]\n",
    "model_name = model_df['model'].values[0]\n",
    "run_id = model_df['run_id'].values[0]"
   ]
  },
  {
   "cell_type": "code",
   "execution_count": null,
   "metadata": {
    "tags": []
   },
   "outputs": [],
   "source": [
    "print('experiment_id :',exp_id)\n",
    "print('=='*50)\n",
    "print('model name :',model_name)\n",
    "print('=='*50)\n",
    "print('run_id :',run_id)"
   ]
  },
  {
   "cell_type": "code",
   "execution_count": null,
   "metadata": {
    "tags": []
   },
   "outputs": [],
   "source": [
    "location = model_df.loc[0:,'location'].values[0]\n",
    "location"
   ]
  },
  {
   "cell_type": "code",
   "execution_count": null,
   "metadata": {
    "tags": [
     "block:future_prediction",
     "prev:load_model"
    ]
   },
   "outputs": [],
   "source": [
    "model = load_model(location)"
   ]
  },
  {
   "cell_type": "code",
   "execution_count": null,
   "metadata": {
    "tags": []
   },
   "outputs": [],
   "source": [
    "#future=model.make_future_dataframe(periods=30,freq='D',include_history=False) #as the time stamp is Quaterly & 4 is for test data records\n",
    "today = date.today().strftime(\"%d-%m-%Y\")\n",
    "future = pd.date_range(start=today, periods=periods_prediction).to_frame(index = False, name='ds')\n",
    "forecast=model.predict(future)\n",
    "forecast[['ds','yhat','yhat_lower','yhat_upper']].head()"
   ]
  },
  {
   "cell_type": "code",
   "execution_count": null,
   "metadata": {
    "tags": []
   },
   "outputs": [],
   "source": [
    "from matplotlib import pyplot\n",
    "model.plot(forecast)\n",
    "pyplot.show()"
   ]
  },
  {
   "cell_type": "code",
   "execution_count": null,
   "metadata": {
    "tags": [
     "block:slack_alert",
     "prev:future_prediction"
    ]
   },
   "outputs": [],
   "source": [
    "forecast.to_csv(\"output.csv\",index=False)\n",
    "file = \"output.csv\"\n",
    "title = \"Amazon Revenue\"\n",
    "text = \"Yahoo Stock Prediction\"\n",
    "\n",
    "client = WebClient(token=token)\n",
    "\n",
    "try:\n",
    "    response = client.chat_postMessage(\n",
    "        channel=channel,\n",
    "        text=text)\n",
    "    response = client.files_upload(\n",
    "        channels=channel,\n",
    "        file=file,\n",
    "        title=title\n",
    ")\n",
    "except SlackApiError as e:\n",
    "    # You will get a SlackApiError if \"ok\" is False\n",
    "    assert e.response[\"ok\"] is False\n",
    "    assert e.response[\"error\"]  # str like 'invalid_auth', 'channel_not_found'\n",
    "    print(f\"Got an error: {e.response['error']}\")"
   ]
  }
 ],
 "metadata": {
  "kernelspec": {
   "display_name": "Python 3",
   "language": "python",
   "name": "python3"
  },
  "kubeflow_notebook": {
   "autosnapshot": false,
   "docker_image": "katonic/katflow:1.0.0",
   "experiment": {
    "id": "new",
    "name": "yahoo-stock"
   },
   "experiment_name": "yahoo-stock",
   "katib_metadata": {
    "algorithm": {
     "algorithmName": "grid"
    },
    "maxFailedTrialCount": 3,
    "maxTrialCount": 12,
    "objective": {
     "objectiveMetricName": "",
     "type": "minimize"
    },
    "parallelTrialCount": 3,
    "parameters": []
   },
   "katib_run": false,
   "pipeline_description": "yahoo_stock_inference",
   "pipeline_name": "yahoo-stock-inference",
   "snapshot_volumes": false,
   "steps_defaults": [],
   "volume_access_mode": "rwo",
   "volumes": []
  },
  "language_info": {
   "codemirror_mode": {
    "name": "ipython",
    "version": 3
   },
   "file_extension": ".py",
   "mimetype": "text/x-python",
   "name": "python",
   "nbconvert_exporter": "python",
   "pygments_lexer": "ipython3",
   "version": "3.7.9"
  }
 },
 "nbformat": 4,
 "nbformat_minor": 4
}
